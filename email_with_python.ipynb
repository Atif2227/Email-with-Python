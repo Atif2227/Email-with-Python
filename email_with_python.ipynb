{
 "cells": [
  {
   "cell_type": "code",
   "execution_count": 3,
   "id": "09c1189b",
   "metadata": {},
   "outputs": [],
   "source": [
    "import smtplib\n",
    "from email.message import EmailMessage\n",
    "import ssl\n",
    "import glob"
   ]
  },
  {
   "cell_type": "code",
   "execution_count": null,
   "id": "03825770",
   "metadata": {},
   "outputs": [],
   "source": [
    "# A simple email\n",
    "\n",
    "msg = EmailMessage()\n",
    "msg['Subject'] = 'Email with python'\n",
    "msg['From'] = 'Atif N Hasan'\n",
    "msg['To'] = 'atifnhasan@gmail.com'\n",
    "msg.set_content(\"This is a test message\")\n",
    "\n",
    "server = smtplib.SMTP_SSL('smtp.gmail.com',465)\n",
    "server.login(\"atifnhasan2@gmail.com\",\"your_google_app_password\")\n",
    "server.send_message(msg)\n",
    "server.quit()\n",
    "# Goole app password for python could be generated from the account management.\n",
    "# Videos could be found on youtube on how to generate google app password for python.\n",
    "# It is very eay to generate.\n",
    "# It is unique to accounts.\n",
    "# Google secutity features keeps on changing, the code working today might not work tomorrow.\n",
    "# Will try to keep the codes updated.   "
   ]
  },
  {
   "cell_type": "code",
   "execution_count": 19,
   "id": "1fe2ac60",
   "metadata": {},
   "outputs": [
    {
     "name": "stdout",
     "output_type": "stream",
     "text": [
      "Email Sent !!!\n"
     ]
    }
   ],
   "source": [
    "# A custome email\n",
    "\n",
    "msg = EmailMessage()\n",
    "msg['Subject'] = 'Email with python'\n",
    "msg['From'] = 'Atif N Hasan'\n",
    "msg['To'] = 'atifnhasan@gmail.com'\n",
    "\n",
    "with open('custome_email') as myfile:\n",
    "    data = myfile.read()\n",
    "    msg.set_content(data)\n",
    "\n",
    "with smtplib.SMTP_SSL('smtp.gmail.com',465) as server:\n",
    "    server.login(\"atifnhasan2@gmail.com\",\"your_google_app_password\")\n",
    "    server.send_message(msg)\n",
    "\n",
    "print('Email Sent !!!')"
   ]
  },
  {
   "cell_type": "code",
   "execution_count": 16,
   "id": "136e8fee",
   "metadata": {},
   "outputs": [
    {
     "name": "stdout",
     "output_type": "stream",
     "text": [
      "Email Sent !!!\n"
     ]
    }
   ],
   "source": [
    "# A custome email with attachment\n",
    "\n",
    "msg = EmailMessage()\n",
    "msg['Subject'] = 'Email with python'\n",
    "msg['From'] = 'Atif N Hasan'\n",
    "msg['To'] = 'atifnhasan@gmail.com'\n",
    "\n",
    "with open('custome_email') as myfile:\n",
    "    data = myfile.read()\n",
    "    msg.set_content(data)\n",
    "\n",
    "with open('glassdoor_jobs.csv',\"rb\") as f:\n",
    "    file_data = f.read()\n",
    "    file_name = f.name\n",
    "    msg.add_attachment(file_data,maintype=\"application\",subtype=\"csv\",filename=file_name)\n",
    "\n",
    "with smtplib.SMTP_SSL('smtp.gmail.com',465) as server:\n",
    "    server.login(\"atifnhasan2@gmail.com\",\"your_google_app_password\")\n",
    "    server.send_message(msg)\n",
    "\n",
    "print('Email Sent !!!')"
   ]
  },
  {
   "cell_type": "code",
   "execution_count": 9,
   "id": "934bc943",
   "metadata": {},
   "outputs": [
    {
     "name": "stdout",
     "output_type": "stream",
     "text": [
      "['ACSDP5Y2018.DP03_data_with_overlays_2022-04-25T031245.csv', 'glassdoor_jobs.csv', 'netflix_titles.csv', 'texas_licenses_professionals.csv']\n"
     ]
    }
   ],
   "source": [
    "list = glob.glob(\"*.csv\")\n",
    "print(list)"
   ]
  },
  {
   "cell_type": "code",
   "execution_count": 11,
   "id": "69f43ddf",
   "metadata": {},
   "outputs": [
    {
     "name": "stdout",
     "output_type": "stream",
     "text": [
      "Attachment added in the message ACSDP5Y2018.DP03_data_with_overlays_2022-04-25T031245.csv\n",
      "Attachment added in the message glassdoor_jobs.csv\n",
      "Attachment added in the message netflix_titles.csv\n",
      "Attachment added in the message texas_licenses_professionals.csv\n"
     ]
    },
    {
     "ename": "SMTPSenderRefused",
     "evalue": "(552, b\"5.2.3 Your message exceeded Google's message size limits. Please visit\\n5.2.3  https://support.google.com/mail/?p=MaxSizeError to view our size\\n5.2.3 guidelines. n7-20020a5d4207000000b002253fd19a6asm13143765wrq.18 - gsmtp\", 'Atif N Hasan')",
     "output_type": "error",
     "traceback": [
      "\u001b[1;31m---------------------------------------------------------------------------\u001b[0m",
      "\u001b[1;31mSMTPSenderRefused\u001b[0m                         Traceback (most recent call last)",
      "Input \u001b[1;32mIn [11]\u001b[0m, in \u001b[0;36m<cell line: 19>\u001b[1;34m()\u001b[0m\n\u001b[0;32m     19\u001b[0m \u001b[38;5;28;01mwith\u001b[39;00m smtplib\u001b[38;5;241m.\u001b[39mSMTP_SSL(\u001b[38;5;124m'\u001b[39m\u001b[38;5;124msmtp.gmail.com\u001b[39m\u001b[38;5;124m'\u001b[39m,\u001b[38;5;241m465\u001b[39m) \u001b[38;5;28;01mas\u001b[39;00m server:\n\u001b[0;32m     20\u001b[0m     server\u001b[38;5;241m.\u001b[39mlogin(\u001b[38;5;124m\"\u001b[39m\u001b[38;5;124matifnhasan2@gmail.com\u001b[39m\u001b[38;5;124m\"\u001b[39m,\u001b[38;5;124m\"\u001b[39m\u001b[38;5;124mutxt klun rxpy bcfz\u001b[39m\u001b[38;5;124m\"\u001b[39m)\n\u001b[1;32m---> 21\u001b[0m     \u001b[43mserver\u001b[49m\u001b[38;5;241;43m.\u001b[39;49m\u001b[43msend_message\u001b[49m\u001b[43m(\u001b[49m\u001b[43mmsg\u001b[49m\u001b[43m)\u001b[49m\n\u001b[0;32m     23\u001b[0m \u001b[38;5;28mprint\u001b[39m(\u001b[38;5;124m'\u001b[39m\u001b[38;5;124mEmail Sent !!!\u001b[39m\u001b[38;5;124m'\u001b[39m)\n",
      "File \u001b[1;32mC:\\ProgramData\\Anaconda3\\lib\\smtplib.py:986\u001b[0m, in \u001b[0;36mSMTP.send_message\u001b[1;34m(self, msg, from_addr, to_addrs, mail_options, rcpt_options)\u001b[0m\n\u001b[0;32m    984\u001b[0m     g\u001b[38;5;241m.\u001b[39mflatten(msg_copy, linesep\u001b[38;5;241m=\u001b[39m\u001b[38;5;124m'\u001b[39m\u001b[38;5;130;01m\\r\u001b[39;00m\u001b[38;5;130;01m\\n\u001b[39;00m\u001b[38;5;124m'\u001b[39m)\n\u001b[0;32m    985\u001b[0m     flatmsg \u001b[38;5;241m=\u001b[39m bytesmsg\u001b[38;5;241m.\u001b[39mgetvalue()\n\u001b[1;32m--> 986\u001b[0m \u001b[38;5;28;01mreturn\u001b[39;00m \u001b[38;5;28;43mself\u001b[39;49m\u001b[38;5;241;43m.\u001b[39;49m\u001b[43msendmail\u001b[49m\u001b[43m(\u001b[49m\u001b[43mfrom_addr\u001b[49m\u001b[43m,\u001b[49m\u001b[43m \u001b[49m\u001b[43mto_addrs\u001b[49m\u001b[43m,\u001b[49m\u001b[43m \u001b[49m\u001b[43mflatmsg\u001b[49m\u001b[43m,\u001b[49m\u001b[43m \u001b[49m\u001b[43mmail_options\u001b[49m\u001b[43m,\u001b[49m\n\u001b[0;32m    987\u001b[0m \u001b[43m                     \u001b[49m\u001b[43mrcpt_options\u001b[49m\u001b[43m)\u001b[49m\n",
      "File \u001b[1;32mC:\\ProgramData\\Anaconda3\\lib\\smtplib.py:887\u001b[0m, in \u001b[0;36mSMTP.sendmail\u001b[1;34m(self, from_addr, to_addrs, msg, mail_options, rcpt_options)\u001b[0m\n\u001b[0;32m    885\u001b[0m     \u001b[38;5;28;01melse\u001b[39;00m:\n\u001b[0;32m    886\u001b[0m         \u001b[38;5;28mself\u001b[39m\u001b[38;5;241m.\u001b[39m_rset()\n\u001b[1;32m--> 887\u001b[0m     \u001b[38;5;28;01mraise\u001b[39;00m SMTPSenderRefused(code, resp, from_addr)\n\u001b[0;32m    888\u001b[0m senderrs \u001b[38;5;241m=\u001b[39m {}\n\u001b[0;32m    889\u001b[0m \u001b[38;5;28;01mif\u001b[39;00m \u001b[38;5;28misinstance\u001b[39m(to_addrs, \u001b[38;5;28mstr\u001b[39m):\n",
      "\u001b[1;31mSMTPSenderRefused\u001b[0m: (552, b\"5.2.3 Your message exceeded Google's message size limits. Please visit\\n5.2.3  https://support.google.com/mail/?p=MaxSizeError to view our size\\n5.2.3 guidelines. n7-20020a5d4207000000b002253fd19a6asm13143765wrq.18 - gsmtp\", 'Atif N Hasan')"
     ]
    }
   ],
   "source": [
    "# A custome email with multiple attachment\n",
    "\n",
    "msg = EmailMessage()\n",
    "msg['Subject'] = 'Email with python'\n",
    "msg['From'] = 'Atif N Hasan'\n",
    "msg['To'] = 'atif_hasan10@yahoo.com'\n",
    "\n",
    "with open('custome_email') as myfile:\n",
    "    data = myfile.read()\n",
    "    msg.set_content(data)\n",
    "\n",
    "for files in glob.glob(\"*.csv\"):\n",
    "    with open(files,\"rb\") as f:\n",
    "        file_data = f.read()\n",
    "        file_name = f.name\n",
    "        msg.add_attachment(file_data,maintype=\"application\",subtype=\"csv\",filename=file_name)\n",
    "        print(\"Attachment added in the message\", file_name)\n",
    "        \n",
    "with smtplib.SMTP_SSL('smtp.gmail.com',465) as server:\n",
    "    server.login(\"atifnhasan2@gmail.com\",\"your_google_app_password\")\n",
    "    server.send_message(msg)\n",
    "\n",
    "print('Email Sent !!!')"
   ]
  }
 ],
 "metadata": {
  "kernelspec": {
   "display_name": "Python 3 (ipykernel)",
   "language": "python",
   "name": "python3"
  },
  "language_info": {
   "codemirror_mode": {
    "name": "ipython",
    "version": 3
   },
   "file_extension": ".py",
   "mimetype": "text/x-python",
   "name": "python",
   "nbconvert_exporter": "python",
   "pygments_lexer": "ipython3",
   "version": "3.9.12"
  }
 },
 "nbformat": 4,
 "nbformat_minor": 5
}
